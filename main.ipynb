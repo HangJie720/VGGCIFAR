{
 "cells": [
  {
   "cell_type": "markdown",
   "metadata": {},
   "source": [
    "# VGGCIFAR\n",
    "Classification of Cifar-10 dataset using VGG-like Convolutional Neural Network"
   ]
  },
  {
   "cell_type": "markdown",
   "metadata": {},
   "source": [
    "## 0. Preparation"
   ]
  },
  {
   "cell_type": "code",
   "execution_count": 1,
   "metadata": {},
   "outputs": [
    {
     "name": "stderr",
     "output_type": "stream",
     "text": [
      "c:\\users\\arata\\appdata\\local\\programs\\python\\python36\\lib\\site-packages\\h5py\\__init__.py:36: FutureWarning: Conversion of the second argument of issubdtype from `float` to `np.floating` is deprecated. In future, it will be treated as `np.float64 == np.dtype(float).type`.\n",
      "  from ._conv import register_converters as _register_converters\n",
      "Using TensorFlow backend.\n"
     ]
    }
   ],
   "source": [
    "# import modules\n",
    "import matplotlib.pyplot as plt\n",
    "import os\n",
    "\n",
    "from keras.datasets import cifar10\n",
    "from keras.layers.core import Dense, Activation, Dropout, Flatten\n",
    "from keras.layers.convolutional import Conv2D\n",
    "from keras.layers.normalization import BatchNormalization\n",
    "from keras.layers.pooling import MaxPool2D\n",
    "from keras.models import Sequential\n",
    "from keras.optimizers import Adam\n",
    "from keras.preprocessing.image import ImageDataGenerator\n",
    "from keras.utils import np_utils, plot_model\n",
    "\n",
    "from matplotlib.ticker import MultipleLocator\n",
    "\n",
    "from sklearn.model_selection import train_test_split"
   ]
  },
  {
   "cell_type": "code",
   "execution_count": 2,
   "metadata": {},
   "outputs": [],
   "source": [
    "# consts\n",
    "NUM_CLASSES = 10\n",
    "BATCH_SIZE = 200"
   ]
  },
  {
   "cell_type": "code",
   "execution_count": 3,
   "metadata": {},
   "outputs": [],
   "source": [
    "# plot function\n",
    "def plot_history(history):\n",
    "    # plot accuracy\n",
    "    plt.plot(history.history['acc'])\n",
    "    plt.plot(history.history['val_acc'])\n",
    "    plt.title('model accuracy')\n",
    "    plt.xlabel('epoch')\n",
    "    plt.ylabel('accuracy')\n",
    "    plt.legend(['acc', 'val_acc'], loc='lower right')\n",
    "    ax = plt.gca()\n",
    "    ax.xaxis.set_major_locator(MultipleLocator(20))\n",
    "    ax.yaxis.set_major_locator(MultipleLocator(0.1))\n",
    "    plt.show()\n",
    "    \n",
    "    # plot loss\n",
    "    plt.plot(history.history['loss'])\n",
    "    plt.plot(history.history['val_loss'])\n",
    "    plt.title('model loss')\n",
    "    plt.xlabel('epoch')\n",
    "    plt.ylabel('loss')\n",
    "    plt.legend(['loss', 'val_loss'], loc='lower right')\n",
    "    ax = plt.gca()\n",
    "    ax.xaxis.set_major_locator(MultipleLocator(20))\n",
    "    plt.show() "
   ]
  },
  {
   "cell_type": "markdown",
   "metadata": {},
   "source": [
    "## 1. Preprocessing\n",
    "- Augment data with zca whitening"
   ]
  },
  {
   "cell_type": "code",
   "execution_count": 4,
   "metadata": {},
   "outputs": [],
   "source": [
    "# load data\n",
    "(x_train, y_train), (x_test, y_test) = cifar10.load_data()\n",
    "y_train = np_utils.to_categorical(y_train, NUM_CLASSES)\n",
    "y_test = np_utils.to_categorical(y_test, NUM_CLASSES)"
   ]
  },
  {
   "cell_type": "code",
   "execution_count": 5,
   "metadata": {},
   "outputs": [],
   "source": [
    "# split data into training and valuation\n",
    "x_train, x_val, y_train, y_val = train_test_split(\n",
    "    x_train, \n",
    "    y_train, \n",
    "    test_size = 0.1,\n",
    "    train_size=0.9, \n",
    "    random_state=42,\n",
    "    shuffle=True\n",
    ")"
   ]
  },
  {
   "cell_type": "code",
   "execution_count": 6,
   "metadata": {},
   "outputs": [],
   "source": [
    "# data augmentation & normalization\n",
    "\n",
    "#training data\n",
    "trainGenerator = ImageDataGenerator(\n",
    "    featurewise_center=True,\n",
    "    #featurewise_std_normalization=True,\n",
    "    zca_whitening=True,\n",
    "    rotation_range=20,\n",
    "    width_shift_range=0.2,\n",
    "    height_shift_range=0.2,\n",
    "    horizontal_flip=True\n",
    ")\n",
    "\n",
    "trainGenerator.fit(x_train)\n",
    "\n",
    "# valuation data\n",
    "valGenerator = ImageDataGenerator(\n",
    "    featurewise_center=True,\n",
    "    #featurewise_std_normalization=True,\n",
    "    zca_whitening=True,\n",
    "    rotation_range=20,\n",
    "    width_shift_range=0.2,\n",
    "    height_shift_range=0.2,\n",
    "    horizontal_flip=True\n",
    ")\n",
    "\n",
    "valGenerator.fit(x_val)"
   ]
  },
  {
   "cell_type": "markdown",
   "metadata": {},
   "source": [
    "## 2. Model Definition\n",
    "- Define deep CNN model like VGG\n",
    "- Adopt Batch Normalization & Dropout"
   ]
  },
  {
   "cell_type": "code",
   "execution_count": 7,
   "metadata": {},
   "outputs": [],
   "source": [
    "# definition\n",
    "model = Sequential([\n",
    "    Conv2D(64, 3, padding='same', input_shape=(32, 32, 3)),\n",
    "    BatchNormalization(),\n",
    "    Activation('relu'),\n",
    "    Conv2D(64, 3, padding='same'),\n",
    "    BatchNormalization(),\n",
    "    Activation('relu'),\n",
    "    MaxPool2D(pool_size=(2, 2)),\n",
    "    Dropout(0.25),\n",
    "    \n",
    "    Conv2D(128, 3, padding='same'),\n",
    "    BatchNormalization(),\n",
    "    Activation('relu'),\n",
    "    Conv2D(128, 3, padding='same'),\n",
    "    BatchNormalization(),\n",
    "    Activation('relu'),\n",
    "    MaxPool2D(pool_size=(2, 2)),\n",
    "    Dropout(0.25),\n",
    "    \n",
    "    Conv2D(256, 3, padding='same'),\n",
    "    BatchNormalization(),\n",
    "    Activation('relu'),\n",
    "    Conv2D(256, 3, padding='same'),\n",
    "    BatchNormalization(),\n",
    "    Activation('relu'),\n",
    "    Conv2D(256, 3, padding='same'),\n",
    "    BatchNormalization(),\n",
    "    Activation('relu'),\n",
    "    Conv2D(256, 3, padding='same'),\n",
    "    BatchNormalization(),\n",
    "    Activation('relu'),\n",
    "    MaxPool2D(pool_size=(2, 2)),\n",
    "    Dropout(0.25),\n",
    "    \n",
    "    Flatten(),\n",
    "    Dropout(0.25),\n",
    "    Dense(4*4*256),\n",
    "    Activation('relu'),\n",
    "    \n",
    "    Dropout(0.25),\n",
    "    Dense(1024),\n",
    "    Activation('relu'),\n",
    "    \n",
    "    \n",
    "    Dense(NUM_CLASSES),\n",
    "    Activation('softmax')\n",
    "])"
   ]
  },
  {
   "cell_type": "markdown",
   "metadata": {},
   "source": [
    "## 3. Learning\n",
    "- adopt Adam as optimizer"
   ]
  },
  {
   "cell_type": "code",
   "execution_count": 8,
   "metadata": {},
   "outputs": [],
   "source": [
    "# optimizer\n",
    "optimizer = Adam()"
   ]
  },
  {
   "cell_type": "code",
   "execution_count": 9,
   "metadata": {},
   "outputs": [],
   "source": [
    "# compile\n",
    "model.compile(optimizer=optimizer, loss='categorical_crossentropy', metrics=['accuracy'])"
   ]
  },
  {
   "cell_type": "code",
   "execution_count": 10,
   "metadata": {},
   "outputs": [],
   "source": [
    "# Epoch\n",
    "EPOCHS = 100"
   ]
  },
  {
   "cell_type": "code",
   "execution_count": 11,
   "metadata": {
    "scrolled": true
   },
   "outputs": [
    {
     "name": "stdout",
     "output_type": "stream",
     "text": [
      "Epoch 1/100\n",
      "225/225 [==============================] - 139s 617ms/step - loss: 2.8036 - acc: 0.1392 - val_loss: 2.2469 - val_acc: 0.1916\n",
      "Epoch 2/100\n",
      "225/225 [==============================] - 132s 588ms/step - loss: 1.8341 - acc: 0.2989 - val_loss: 2.7606 - val_acc: 0.1758\n",
      "Epoch 3/100\n",
      "225/225 [==============================] - 135s 600ms/step - loss: 1.5558 - acc: 0.4127 - val_loss: 2.6001 - val_acc: 0.2214\n",
      "Epoch 4/100\n",
      "225/225 [==============================] - 138s 615ms/step - loss: 1.3512 - acc: 0.5000 - val_loss: 2.1359 - val_acc: 0.3310\n",
      "Epoch 5/100\n",
      "225/225 [==============================] - 138s 613ms/step - loss: 1.2136 - acc: 0.5624 - val_loss: 1.8806 - val_acc: 0.3952\n",
      "Epoch 6/100\n",
      "225/225 [==============================] - 138s 613ms/step - loss: 1.0809 - acc: 0.6163 - val_loss: 2.5209 - val_acc: 0.3706\n",
      "Epoch 7/100\n",
      "225/225 [==============================] - 137s 611ms/step - loss: 0.9768 - acc: 0.6560 - val_loss: 1.4622 - val_acc: 0.5326\n",
      "Epoch 8/100\n",
      "225/225 [==============================] - 137s 608ms/step - loss: 0.9043 - acc: 0.6838 - val_loss: 1.6372 - val_acc: 0.4702\n",
      "Epoch 9/100\n",
      "225/225 [==============================] - 137s 608ms/step - loss: 0.8361 - acc: 0.7086 - val_loss: 1.1323 - val_acc: 0.6048\n",
      "Epoch 10/100\n",
      "225/225 [==============================] - 137s 610ms/step - loss: 0.7858 - acc: 0.7304 - val_loss: 1.1143 - val_acc: 0.6340\n",
      "Epoch 11/100\n",
      "225/225 [==============================] - 137s 611ms/step - loss: 0.7380 - acc: 0.7485 - val_loss: 1.0582 - val_acc: 0.6466\n",
      "Epoch 12/100\n",
      "225/225 [==============================] - 137s 608ms/step - loss: 0.7018 - acc: 0.7608 - val_loss: 1.3931 - val_acc: 0.5824\n",
      "Epoch 13/100\n",
      "225/225 [==============================] - 137s 610ms/step - loss: 0.6660 - acc: 0.7735 - val_loss: 1.2940 - val_acc: 0.5790\n",
      "Epoch 14/100\n",
      "225/225 [==============================] - 137s 610ms/step - loss: 0.6444 - acc: 0.7830 - val_loss: 1.0710 - val_acc: 0.6474\n",
      "Epoch 15/100\n",
      "225/225 [==============================] - 137s 608ms/step - loss: 0.6103 - acc: 0.7940 - val_loss: 1.1148 - val_acc: 0.6396\n",
      "Epoch 16/100\n",
      "225/225 [==============================] - 137s 610ms/step - loss: 0.5981 - acc: 0.7978 - val_loss: 1.6143 - val_acc: 0.5444\n",
      "Epoch 17/100\n",
      "225/225 [==============================] - 138s 612ms/step - loss: 0.5742 - acc: 0.8068 - val_loss: 1.1265 - val_acc: 0.6354\n",
      "Epoch 18/100\n",
      "225/225 [==============================] - 137s 610ms/step - loss: 0.5583 - acc: 0.8105 - val_loss: 0.8719 - val_acc: 0.7166\n",
      "Epoch 19/100\n",
      "225/225 [==============================] - 137s 608ms/step - loss: 0.5435 - acc: 0.8162 - val_loss: 1.3759 - val_acc: 0.6074\n",
      "Epoch 20/100\n",
      "225/225 [==============================] - 136s 607ms/step - loss: 0.5177 - acc: 0.8256 - val_loss: 1.3996 - val_acc: 0.5912\n",
      "Epoch 21/100\n",
      "225/225 [==============================] - 137s 607ms/step - loss: 0.5051 - acc: 0.8282 - val_loss: 0.8750 - val_acc: 0.7054\n",
      "Epoch 22/100\n",
      "225/225 [==============================] - 137s 607ms/step - loss: 0.4871 - acc: 0.8343 - val_loss: 0.9845 - val_acc: 0.6790\n",
      "Epoch 23/100\n",
      "225/225 [==============================] - 137s 609ms/step - loss: 0.4719 - acc: 0.8393 - val_loss: 0.8628 - val_acc: 0.7172\n",
      "Epoch 24/100\n",
      "225/225 [==============================] - 136s 606ms/step - loss: 0.4652 - acc: 0.8449 - val_loss: 1.0343 - val_acc: 0.6692\n",
      "Epoch 25/100\n",
      "225/225 [==============================] - 136s 607ms/step - loss: 0.4546 - acc: 0.8456 - val_loss: 0.9285 - val_acc: 0.7112\n",
      "Epoch 26/100\n",
      "225/225 [==============================] - 136s 607ms/step - loss: 0.4344 - acc: 0.8538 - val_loss: 1.0433 - val_acc: 0.6720\n",
      "Epoch 27/100\n",
      "225/225 [==============================] - 137s 609ms/step - loss: 0.4331 - acc: 0.8537 - val_loss: 1.0103 - val_acc: 0.6784\n",
      "Epoch 28/100\n",
      "225/225 [==============================] - 137s 607ms/step - loss: 0.4233 - acc: 0.8565 - val_loss: 1.0136 - val_acc: 0.6814\n",
      "Epoch 29/100\n",
      "225/225 [==============================] - 137s 607ms/step - loss: 0.4090 - acc: 0.8610 - val_loss: 0.9289 - val_acc: 0.7028\n",
      "Epoch 30/100\n",
      "225/225 [==============================] - 137s 607ms/step - loss: 0.4025 - acc: 0.8645 - val_loss: 0.9677 - val_acc: 0.7036\n",
      "Epoch 31/100\n",
      "225/225 [==============================] - 137s 608ms/step - loss: 0.3941 - acc: 0.8666 - val_loss: 0.9879 - val_acc: 0.6940\n",
      "Epoch 32/100\n",
      "225/225 [==============================] - 137s 609ms/step - loss: 0.3869 - acc: 0.8708 - val_loss: 1.1028 - val_acc: 0.6816\n",
      "Epoch 33/100\n",
      "225/225 [==============================] - 137s 607ms/step - loss: 0.3790 - acc: 0.8703 - val_loss: 1.3604 - val_acc: 0.6436\n",
      "Epoch 34/100\n",
      "225/225 [==============================] - 137s 607ms/step - loss: 0.3698 - acc: 0.8739 - val_loss: 0.6466 - val_acc: 0.7888\n",
      "Epoch 35/100\n",
      "225/225 [==============================] - 137s 607ms/step - loss: 0.3575 - acc: 0.8782 - val_loss: 0.7044 - val_acc: 0.7632\n",
      "Epoch 36/100\n",
      "225/225 [==============================] - 137s 610ms/step - loss: 0.3504 - acc: 0.8818 - val_loss: 0.7637 - val_acc: 0.7536\n",
      "Epoch 37/100\n",
      "225/225 [==============================] - 138s 612ms/step - loss: 0.3481 - acc: 0.8822 - val_loss: 1.1020 - val_acc: 0.6780\n",
      "Epoch 38/100\n",
      "225/225 [==============================] - 138s 612ms/step - loss: 0.3424 - acc: 0.8848 - val_loss: 0.8491 - val_acc: 0.7310\n",
      "Epoch 39/100\n",
      "225/225 [==============================] - 139s 618ms/step - loss: 0.3340 - acc: 0.8859 - val_loss: 0.6727 - val_acc: 0.7808\n",
      "Epoch 40/100\n",
      "225/225 [==============================] - 137s 608ms/step - loss: 0.3285 - acc: 0.8870 - val_loss: 0.9897 - val_acc: 0.7124\n",
      "Epoch 41/100\n",
      "225/225 [==============================] - 137s 608ms/step - loss: 0.3229 - acc: 0.8887 - val_loss: 0.8648 - val_acc: 0.7340\n",
      "Epoch 42/100\n",
      "225/225 [==============================] - 138s 612ms/step - loss: 0.3185 - acc: 0.8908 - val_loss: 1.2399 - val_acc: 0.6780\n",
      "Epoch 43/100\n",
      "225/225 [==============================] - 138s 612ms/step - loss: 0.3139 - acc: 0.8934 - val_loss: 0.7996 - val_acc: 0.7578\n",
      "Epoch 44/100\n",
      "225/225 [==============================] - 138s 612ms/step - loss: 0.3057 - acc: 0.8970 - val_loss: 0.7074 - val_acc: 0.7646\n",
      "Epoch 45/100\n",
      "225/225 [==============================] - 137s 611ms/step - loss: 0.3026 - acc: 0.8976 - val_loss: 0.7063 - val_acc: 0.7828\n",
      "Epoch 46/100\n",
      "225/225 [==============================] - 138s 612ms/step - loss: 0.3021 - acc: 0.8981 - val_loss: 0.7667 - val_acc: 0.7592\n",
      "Epoch 47/100\n",
      "225/225 [==============================] - 137s 607ms/step - loss: 0.2908 - acc: 0.9031 - val_loss: 1.1099 - val_acc: 0.6980\n",
      "Epoch 48/100\n",
      "225/225 [==============================] - 137s 607ms/step - loss: 0.2860 - acc: 0.9032 - val_loss: 1.1904 - val_acc: 0.6642\n",
      "Epoch 49/100\n",
      "225/225 [==============================] - 137s 610ms/step - loss: 0.2819 - acc: 0.9044 - val_loss: 1.0016 - val_acc: 0.7186\n",
      "Epoch 50/100\n",
      "225/225 [==============================] - 137s 608ms/step - loss: 0.2780 - acc: 0.9060 - val_loss: 0.7846 - val_acc: 0.7614\n",
      "Epoch 51/100\n",
      "225/225 [==============================] - 137s 607ms/step - loss: 0.2685 - acc: 0.9068 - val_loss: 1.0682 - val_acc: 0.7174\n",
      "Epoch 52/100\n",
      "225/225 [==============================] - 138s 612ms/step - loss: 0.2678 - acc: 0.9087 - val_loss: 0.7895 - val_acc: 0.7654\n",
      "Epoch 53/100\n",
      "225/225 [==============================] - 137s 608ms/step - loss: 0.2605 - acc: 0.9091 - val_loss: 0.8598 - val_acc: 0.7398\n",
      "Epoch 54/100\n",
      "225/225 [==============================] - 137s 608ms/step - loss: 0.2611 - acc: 0.9098 - val_loss: 0.8664 - val_acc: 0.7530\n",
      "Epoch 55/100\n",
      "225/225 [==============================] - 137s 608ms/step - loss: 0.2490 - acc: 0.9144 - val_loss: 0.6787 - val_acc: 0.7884\n",
      "Epoch 56/100\n",
      "225/225 [==============================] - 137s 609ms/step - loss: 0.2522 - acc: 0.9138 - val_loss: 0.8195 - val_acc: 0.7582\n",
      "Epoch 57/100\n",
      "225/225 [==============================] - 137s 608ms/step - loss: 0.2458 - acc: 0.9158 - val_loss: 1.0212 - val_acc: 0.7242\n",
      "Epoch 58/100\n",
      "225/225 [==============================] - 138s 612ms/step - loss: 0.2473 - acc: 0.9154 - val_loss: 0.9469 - val_acc: 0.7464\n",
      "Epoch 59/100\n",
      "225/225 [==============================] - 138s 613ms/step - loss: 0.2416 - acc: 0.9181 - val_loss: 0.8848 - val_acc: 0.7412\n",
      "Epoch 60/100\n"
     ]
    },
    {
     "name": "stdout",
     "output_type": "stream",
     "text": [
      "225/225 [==============================] - 138s 614ms/step - loss: 0.2383 - acc: 0.9193 - val_loss: 1.0446 - val_acc: 0.7260\n",
      "Epoch 61/100\n",
      "225/225 [==============================] - 138s 613ms/step - loss: 0.2308 - acc: 0.9208 - val_loss: 0.7781 - val_acc: 0.7810\n",
      "Epoch 62/100\n",
      "225/225 [==============================] - 137s 610ms/step - loss: 0.2299 - acc: 0.9205 - val_loss: 0.8659 - val_acc: 0.7572\n",
      "Epoch 63/100\n",
      "225/225 [==============================] - 138s 611ms/step - loss: 0.2297 - acc: 0.9210 - val_loss: 0.8088 - val_acc: 0.7654\n",
      "Epoch 64/100\n",
      "225/225 [==============================] - 138s 613ms/step - loss: 0.2230 - acc: 0.9232 - val_loss: 1.0802 - val_acc: 0.7336\n",
      "Epoch 65/100\n",
      "225/225 [==============================] - 137s 610ms/step - loss: 0.2216 - acc: 0.9246 - val_loss: 0.8265 - val_acc: 0.7724\n",
      "Epoch 66/100\n",
      "225/225 [==============================] - 137s 609ms/step - loss: 0.2202 - acc: 0.9243 - val_loss: 0.8100 - val_acc: 0.7712\n",
      "Epoch 67/100\n",
      "225/225 [==============================] - 138s 613ms/step - loss: 0.2109 - acc: 0.9272 - val_loss: 1.0936 - val_acc: 0.7332\n",
      "Epoch 68/100\n",
      "225/225 [==============================] - 137s 610ms/step - loss: 0.2131 - acc: 0.9275 - val_loss: 0.8384 - val_acc: 0.7762\n",
      "Epoch 69/100\n",
      "225/225 [==============================] - 138s 612ms/step - loss: 0.2107 - acc: 0.9283 - val_loss: 0.7787 - val_acc: 0.7742\n",
      "Epoch 70/100\n",
      "225/225 [==============================] - 137s 609ms/step - loss: 0.2053 - acc: 0.9291 - val_loss: 1.0393 - val_acc: 0.7318\n",
      "Epoch 71/100\n",
      "225/225 [==============================] - 137s 609ms/step - loss: 0.2014 - acc: 0.9320 - val_loss: 1.0059 - val_acc: 0.7354\n",
      "Epoch 72/100\n",
      "225/225 [==============================] - 137s 610ms/step - loss: 0.2016 - acc: 0.9318 - val_loss: 1.0216 - val_acc: 0.7398\n",
      "Epoch 73/100\n",
      "225/225 [==============================] - 137s 609ms/step - loss: 0.1974 - acc: 0.9323 - val_loss: 1.0289 - val_acc: 0.7462\n",
      "Epoch 74/100\n",
      "225/225 [==============================] - 137s 609ms/step - loss: 0.1955 - acc: 0.9324 - val_loss: 0.6824 - val_acc: 0.8078\n",
      "Epoch 75/100\n",
      "225/225 [==============================] - 137s 608ms/step - loss: 0.1926 - acc: 0.9336 - val_loss: 0.9362 - val_acc: 0.7434\n",
      "Epoch 76/100\n",
      "225/225 [==============================] - 137s 609ms/step - loss: 0.1952 - acc: 0.9327 - val_loss: 0.9413 - val_acc: 0.7562\n",
      "Epoch 77/100\n",
      "225/225 [==============================] - 137s 609ms/step - loss: 0.1906 - acc: 0.9355 - val_loss: 0.9221 - val_acc: 0.7588\n",
      "Epoch 78/100\n",
      "225/225 [==============================] - 137s 609ms/step - loss: 0.1860 - acc: 0.9359 - val_loss: 0.9411 - val_acc: 0.7606\n",
      "Epoch 79/100\n",
      "225/225 [==============================] - 137s 608ms/step - loss: 0.1809 - acc: 0.9386 - val_loss: 0.9191 - val_acc: 0.7540\n",
      "Epoch 80/100\n",
      "225/225 [==============================] - 137s 608ms/step - loss: 0.1822 - acc: 0.9383 - val_loss: 0.8486 - val_acc: 0.7682\n",
      "Epoch 81/100\n",
      "225/225 [==============================] - 137s 611ms/step - loss: 0.1844 - acc: 0.9366 - val_loss: 1.2518 - val_acc: 0.6860\n",
      "Epoch 82/100\n",
      "225/225 [==============================] - 137s 609ms/step - loss: 0.1769 - acc: 0.9400 - val_loss: 0.9059 - val_acc: 0.7470\n",
      "Epoch 83/100\n",
      "225/225 [==============================] - 137s 608ms/step - loss: 0.1756 - acc: 0.9398 - val_loss: 1.3378 - val_acc: 0.7058\n",
      "Epoch 84/100\n",
      "225/225 [==============================] - 137s 609ms/step - loss: 0.1752 - acc: 0.9405 - val_loss: 0.8902 - val_acc: 0.7618\n",
      "Epoch 85/100\n",
      "225/225 [==============================] - 138s 613ms/step - loss: 0.1710 - acc: 0.9419 - val_loss: 0.9379 - val_acc: 0.7604\n",
      "Epoch 86/100\n",
      "225/225 [==============================] - 137s 610ms/step - loss: 0.1674 - acc: 0.9443 - val_loss: 0.8109 - val_acc: 0.7728\n",
      "Epoch 87/100\n",
      "225/225 [==============================] - 138s 613ms/step - loss: 0.1655 - acc: 0.9445 - val_loss: 0.8199 - val_acc: 0.7748\n",
      "Epoch 88/100\n",
      "225/225 [==============================] - 137s 611ms/step - loss: 0.1669 - acc: 0.9436 - val_loss: 0.9320 - val_acc: 0.7502\n",
      "Epoch 89/100\n",
      "225/225 [==============================] - 138s 613ms/step - loss: 0.1644 - acc: 0.9432 - val_loss: 0.8344 - val_acc: 0.7820\n",
      "Epoch 90/100\n",
      "225/225 [==============================] - 137s 609ms/step - loss: 0.1625 - acc: 0.9442 - val_loss: 0.9817 - val_acc: 0.7500\n",
      "Epoch 91/100\n",
      "225/225 [==============================] - 138s 612ms/step - loss: 0.1670 - acc: 0.9421 - val_loss: 0.8314 - val_acc: 0.7810\n",
      "Epoch 92/100\n",
      "225/225 [==============================] - 138s 613ms/step - loss: 0.1589 - acc: 0.9453 - val_loss: 0.6796 - val_acc: 0.8110\n",
      "Epoch 93/100\n",
      "225/225 [==============================] - 137s 609ms/step - loss: 0.1557 - acc: 0.9462 - val_loss: 1.3307 - val_acc: 0.6982\n",
      "Epoch 94/100\n",
      "225/225 [==============================] - 137s 610ms/step - loss: 0.1543 - acc: 0.9481 - val_loss: 0.9072 - val_acc: 0.7632\n",
      "Epoch 95/100\n",
      "225/225 [==============================] - 137s 611ms/step - loss: 0.1599 - acc: 0.9451 - val_loss: 0.8921 - val_acc: 0.7676\n",
      "Epoch 96/100\n",
      "225/225 [==============================] - 137s 609ms/step - loss: 0.1547 - acc: 0.9476 - val_loss: 0.8992 - val_acc: 0.7716\n",
      "Epoch 97/100\n",
      "225/225 [==============================] - 137s 610ms/step - loss: 0.1540 - acc: 0.9480 - val_loss: 0.8140 - val_acc: 0.7710\n",
      "Epoch 98/100\n",
      "225/225 [==============================] - 137s 609ms/step - loss: 0.1498 - acc: 0.9505 - val_loss: 1.0225 - val_acc: 0.7620\n",
      "Epoch 99/100\n",
      "225/225 [==============================] - 137s 610ms/step - loss: 0.1478 - acc: 0.9489 - val_loss: 0.9520 - val_acc: 0.7602\n",
      "Epoch 100/100\n",
      "225/225 [==============================] - 137s 609ms/step - loss: 0.1461 - acc: 0.9512 - val_loss: 0.8803 - val_acc: 0.7778\n"
     ]
    }
   ],
   "source": [
    "# learning\n",
    "history = model.fit_generator(\n",
    "    trainGenerator.flow(x_train, y_train, BATCH_SIZE),\n",
    "    epochs=EPOCHS,\n",
    "    verbose=1,\n",
    "    #callbacks=[earlyStopping],\n",
    "    validation_data=valGenerator.flow(x_val, y_val, BATCH_SIZE)\n",
    ")\n"
   ]
  },
  {
   "cell_type": "markdown",
   "metadata": {},
   "source": [
    "## 4. Evaluation\n",
    "- Plot accuracy & loss of both test data and validation data"
   ]
  },
  {
   "cell_type": "code",
   "execution_count": 12,
   "metadata": {
    "scrolled": false
   },
   "outputs": [
    {
     "data": {
      "image/png": "[encoded data removed]",
      "text/plain": [
       "<Figure size 432x288 with 1 Axes>"
      ]
     },
     "metadata": {},
     "output_type": "display_data"
    },
    {
     "data": {
      "image/png": "[encoded data removed]",
      "text/plain": [
       "<Figure size 432x288 with 1 Axes>"
      ]
     },
     "metadata": {},
     "output_type": "display_data"
    }
   ],
   "source": [
    "# plot accuracy & loss\n",
    "plot_history(history)"
   ]
  },
  {
   "cell_type": "code",
   "execution_count": 13,
   "metadata": {},
   "outputs": [],
   "source": [
    "# visualize model\n",
    "plot_model(model, to_file=\"./Resources/model.png\", show_shapes=True)"
   ]
  },
  {
   "cell_type": "markdown",
   "metadata": {},
   "source": [
    "# 5. Save\n",
    "- Save model architecture and weight"
   ]
  },
  {
   "cell_type": "code",
   "execution_count": 14,
   "metadata": {},
   "outputs": [],
   "source": [
    "# save model & weight\n",
    "json_string = model.to_json()\n",
    "open('./Resources/model.json', 'w').write(json_string)\n",
    "\n",
    "model.save_weights('./Resources/model_weights.hdf5')"
   ]
  }
 ],
 "metadata": {
  "kernelspec": {
   "display_name": "Python 3",
   "language": "python",
   "name": "python3"
  },
  "language_info": {
   "codemirror_mode": {
    "name": "ipython",
    "version": 3
   },
   "file_extension": ".py",
   "mimetype": "text/x-python",
   "name": "python",
   "nbconvert_exporter": "python",
   "pygments_lexer": "ipython3",
   "version": "3.6.5"
  }
 },
 "nbformat": 4,
 "nbformat_minor": 2
}
