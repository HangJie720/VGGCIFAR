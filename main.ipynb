{
 "cells": [
  {
   "cell_type": "markdown",
   "metadata": {},
   "source": [
    "# VGGCIFAR\n"
   ]
  },
  {
   "cell_type": "markdown",
   "metadata": {},
   "source": [
    "## 0. Preparation"
   ]
  },
  {
   "cell_type": "code",
   "execution_count": 1,
   "metadata": {},
   "outputs": [
    {
     "name": "stderr",
     "output_type": "stream",
     "text": [
      "Using TensorFlow backend.\n"
     ]
    }
   ],
   "source": [
    "# import modules\n",
    "import matplotlib.pyplot as plt\n",
    "from matplotlib.ticker import MultipleLocator\n",
    "\n",
    "from sklearn.model_selection import train_test_split\n",
    "\n",
    "from keras.models import Sequential\n",
    "from keras.layers.core import Dense, Activation, Dropout, Flatten\n",
    "from keras.layers.convolutional import Conv2D\n",
    "from keras.layers.normalization import BatchNormalization\n",
    "from keras.layers.pooling import MaxPool2D\n",
    "from keras.optimizers import Adam\n",
    "\n",
    "from keras.preprocessing.image import ImageDataGenerator\n",
    "from keras.utils import plot_model\n",
    "\n",
    "from keras.datasets import cifar10\n",
    "from keras.utils import np_utils"
   ]
  },
  {
   "cell_type": "code",
   "execution_count": 2,
   "metadata": {},
   "outputs": [],
   "source": [
    "# consts\n",
    "NUM_CLASSES = 10\n",
    "BATCH_SIZE = 200"
   ]
  },
  {
   "cell_type": "code",
   "execution_count": 26,
   "metadata": {},
   "outputs": [],
   "source": [
    "# plot function\n",
    "def plot_history(history):\n",
    "    # plot accuracy\n",
    "    plt.plot(history.history['acc'])\n",
    "    plt.plot(history.history['val_acc'])\n",
    "    plt.title('model accuracy')\n",
    "    plt.xlabel('epoch')\n",
    "    plt.ylabel('accuracy')\n",
    "    plt.legend(['acc', 'val_acc'], loc='lower right')\n",
    "    ax = plt.gca()\n",
    "    ax.xaxis.set_major_locator(MultipleLocator(20))\n",
    "    ax.yaxis.set_major_locator(MultipleLocator(0.1))\n",
    "    plt.show()\n",
    "    \n",
    "    # plot loss\n",
    "    plt.plot(history.history['loss'])\n",
    "    plt.plot(history.history['val_loss'])\n",
    "    plt.title('model loss')\n",
    "    plt.xlabel('epoch')\n",
    "    plt.ylabel('loss')\n",
    "    plt.legend(['loss', 'val_loss'], loc='lower right')\n",
    "    ax = plt.gca()\n",
    "    ax.xaxis.set_major_locator(MultipleLocator(20))\n",
    "    plt.show() "
   ]
  },
  {
   "cell_type": "markdown",
   "metadata": {},
   "source": [
    "## 1. Preprocessing"
   ]
  },
  {
   "cell_type": "code",
   "execution_count": 4,
   "metadata": {},
   "outputs": [],
   "source": [
    "# load data\n",
    "(x_train, y_train), (x_test, y_test) = cifar10.load_data()\n",
    "y_train = np_utils.to_categorical(y_train, NUM_CLASSES)\n",
    "y_test = np_utils.to_categorical(y_test, NUM_CLASSES)"
   ]
  },
  {
   "cell_type": "code",
   "execution_count": 5,
   "metadata": {},
   "outputs": [],
   "source": [
    "#split data into training and valuation\n",
    "x_train, x_val, y_train, y_val = train_test_split(\n",
    "    x_train, \n",
    "    y_train, \n",
    "    test_size = 0.1,\n",
    "    train_size=0.9, \n",
    "    random_state=42,\n",
    "    shuffle=True\n",
    ")"
   ]
  },
  {
   "cell_type": "code",
   "execution_count": 6,
   "metadata": {},
   "outputs": [],
   "source": [
    "# data augmentation & normalization\n",
    "\n",
    "#training data\n",
    "trainGenerator = ImageDataGenerator(\n",
    "    featurewise_center=True,\n",
    "    #featurewise_std_normalization=True,\n",
    "    zca_whitening=True,\n",
    "    rotation_range=20,\n",
    "    width_shift_range=0.2,\n",
    "    height_shift_range=0.2,\n",
    "    horizontal_flip=True\n",
    ")\n",
    "\n",
    "trainGenerator.fit(x_train)\n",
    "\n",
    "# valuation data\n",
    "valGenerator = ImageDataGenerator(\n",
    "    featurewise_center=True,\n",
    "    #featurewise_std_normalization=True,\n",
    "    zca_whitening=True,\n",
    "    rotation_range=20,\n",
    "    width_shift_range=0.2,\n",
    "    height_shift_range=0.2,\n",
    "    horizontal_flip=True\n",
    ")\n",
    "\n",
    "valGenerator.fit(x_val)"
   ]
  },
  {
   "cell_type": "markdown",
   "metadata": {},
   "source": [
    "## 2. Model Definition"
   ]
  },
  {
   "cell_type": "code",
   "execution_count": 16,
   "metadata": {},
   "outputs": [],
   "source": [
    "# definition\n",
    "model = Sequential([\n",
    "    Conv2D(64, 3, padding='same', input_shape=(32, 32, 3)),\n",
    "    BatchNormalization(),\n",
    "    Activation('relu'),\n",
    "    Conv2D(64, 3, padding='same'),\n",
    "    BatchNormalization(),\n",
    "    Activation('relu'),\n",
    "    MaxPool2D(pool_size=(2, 2)),\n",
    "    Dropout(0.25),\n",
    "    \n",
    "    Conv2D(128, 3, padding='same'),\n",
    "    BatchNormalization(),\n",
    "    Activation('relu'),\n",
    "    Conv2D(128, 3, padding='same'),\n",
    "    BatchNormalization(),\n",
    "    Activation('relu'),\n",
    "    MaxPool2D(pool_size=(2, 2)),\n",
    "    Dropout(0.25),\n",
    "    \n",
    "    Conv2D(256, 3, padding='same'),\n",
    "    BatchNormalization(),\n",
    "    Activation('relu'),\n",
    "    Conv2D(256, 3, padding='same'),\n",
    "    BatchNormalization(),\n",
    "    Activation('relu'),\n",
    "    Conv2D(256, 3, padding='same'),\n",
    "    BatchNormalization(),\n",
    "    Activation('relu'),\n",
    "    Conv2D(256, 3, padding='same'),\n",
    "    BatchNormalization(),\n",
    "    Activation('relu'),\n",
    "    MaxPool2D(pool_size=(2, 2)),\n",
    "    Dropout(0.25),\n",
    "    \n",
    "    Flatten(),\n",
    "    Dropout(0.25),\n",
    "    Dense(4*4*256),\n",
    "    Activation('relu'),\n",
    "    \n",
    "    Dropout(0.25),\n",
    "    Dense(1024),\n",
    "    Activation('relu'),\n",
    "    \n",
    "    \n",
    "    Dense(NUM_CLASSES),\n",
    "    Activation('softmax')\n",
    "])"
   ]
  },
  {
   "cell_type": "markdown",
   "metadata": {},
   "source": [
    "## 3. Learning"
   ]
  },
  {
   "cell_type": "code",
   "execution_count": 17,
   "metadata": {},
   "outputs": [],
   "source": [
    "# optimizer\n",
    "optimizer = Adam()"
   ]
  },
  {
   "cell_type": "code",
   "execution_count": 18,
   "metadata": {},
   "outputs": [],
   "source": [
    "# compile\n",
    "model.compile(optimizer=optimizer, loss='categorical_crossentropy', metrics=['accuracy'])"
   ]
  },
  {
   "cell_type": "code",
   "execution_count": 19,
   "metadata": {},
   "outputs": [],
   "source": [
    "# Epoch\n",
    "EPOCHS = 100"
   ]
  },
  {
   "cell_type": "code",
   "execution_count": 20,
   "metadata": {
    "scrolled": true
   },
   "outputs": [
    {
     "name": "stdout",
     "output_type": "stream",
     "text": [
      "Epoch 1/100\n",
      "225/225 [==============================] - 136s 605ms/step - loss: 3.0330 - acc: 0.1209 - val_loss: 2.5694 - val_acc: 0.1248\n",
      "Epoch 2/100\n",
      "225/225 [==============================] - 130s 577ms/step - loss: 1.9431 - acc: 0.2705 - val_loss: 2.3118 - val_acc: 0.2364\n",
      "Epoch 3/100\n",
      "225/225 [==============================] - 130s 576ms/step - loss: 1.5835 - acc: 0.4016 - val_loss: 1.8100 - val_acc: 0.3280\n",
      "Epoch 4/100\n",
      "225/225 [==============================] - 130s 579ms/step - loss: 1.3919 - acc: 0.4828 - val_loss: 1.6911 - val_acc: 0.4114\n",
      "Epoch 5/100\n",
      "225/225 [==============================] - 130s 577ms/step - loss: 1.2361 - acc: 0.5537 - val_loss: 1.3229 - val_acc: 0.5298\n",
      "Epoch 6/100\n",
      "225/225 [==============================] - 129s 574ms/step - loss: 1.1174 - acc: 0.6015 - val_loss: 2.1642 - val_acc: 0.4300\n",
      "Epoch 7/100\n",
      "225/225 [==============================] - 129s 575ms/step - loss: 1.0233 - acc: 0.6405 - val_loss: 1.4088 - val_acc: 0.5104\n",
      "Epoch 8/100\n",
      "225/225 [==============================] - 130s 579ms/step - loss: 0.9387 - acc: 0.6731 - val_loss: 1.3679 - val_acc: 0.5370\n",
      "Epoch 9/100\n",
      "225/225 [==============================] - 130s 576ms/step - loss: 0.8715 - acc: 0.6992 - val_loss: 1.4968 - val_acc: 0.5194\n",
      "Epoch 10/100\n",
      "225/225 [==============================] - 129s 574ms/step - loss: 0.8173 - acc: 0.7191 - val_loss: 1.1971 - val_acc: 0.5872\n",
      "Epoch 11/100\n",
      "225/225 [==============================] - 129s 574ms/step - loss: 0.7648 - acc: 0.7400 - val_loss: 1.2532 - val_acc: 0.5688\n",
      "Epoch 12/100\n",
      "225/225 [==============================] - 130s 576ms/step - loss: 0.7321 - acc: 0.7512 - val_loss: 0.9046 - val_acc: 0.6832\n",
      "Epoch 13/100\n",
      "225/225 [==============================] - 129s 574ms/step - loss: 0.7041 - acc: 0.7612 - val_loss: 1.0960 - val_acc: 0.6308\n",
      "Epoch 14/100\n",
      "225/225 [==============================] - 130s 576ms/step - loss: 0.6654 - acc: 0.7736 - val_loss: 1.3758 - val_acc: 0.5730\n",
      "Epoch 15/100\n",
      "225/225 [==============================] - 129s 574ms/step - loss: 0.6309 - acc: 0.7869 - val_loss: 0.9605 - val_acc: 0.6706\n",
      "Epoch 16/100\n",
      "225/225 [==============================] - 130s 576ms/step - loss: 0.6146 - acc: 0.7928 - val_loss: 1.0652 - val_acc: 0.6356\n",
      "Epoch 17/100\n",
      "225/225 [==============================] - 129s 574ms/step - loss: 0.5927 - acc: 0.8002 - val_loss: 1.2791 - val_acc: 0.6158\n",
      "Epoch 18/100\n",
      "225/225 [==============================] - 129s 575ms/step - loss: 0.5693 - acc: 0.8061 - val_loss: 1.0602 - val_acc: 0.6546\n",
      "Epoch 19/100\n",
      "225/225 [==============================] - 129s 573ms/step - loss: 0.5567 - acc: 0.8107 - val_loss: 1.0473 - val_acc: 0.6590\n",
      "Epoch 20/100\n",
      "225/225 [==============================] - 130s 577ms/step - loss: 0.5322 - acc: 0.8210 - val_loss: 1.0324 - val_acc: 0.6632\n",
      "Epoch 21/100\n",
      "225/225 [==============================] - 129s 575ms/step - loss: 0.5241 - acc: 0.8224 - val_loss: 0.8624 - val_acc: 0.6910\n",
      "Epoch 22/100\n",
      "225/225 [==============================] - 130s 577ms/step - loss: 0.5100 - acc: 0.8266 - val_loss: 1.0635 - val_acc: 0.6602\n",
      "Epoch 23/100\n",
      "225/225 [==============================] - 129s 574ms/step - loss: 0.4954 - acc: 0.8328 - val_loss: 0.8792 - val_acc: 0.7140\n",
      "Epoch 24/100\n",
      "225/225 [==============================] - 130s 576ms/step - loss: 0.4736 - acc: 0.8391 - val_loss: 0.8143 - val_acc: 0.7332\n",
      "Epoch 25/100\n",
      "225/225 [==============================] - 129s 574ms/step - loss: 0.4687 - acc: 0.8400 - val_loss: 0.8784 - val_acc: 0.7080\n",
      "Epoch 26/100\n",
      "225/225 [==============================] - 129s 574ms/step - loss: 0.4552 - acc: 0.8455 - val_loss: 0.9102 - val_acc: 0.7058\n",
      "Epoch 27/100\n",
      "225/225 [==============================] - 129s 575ms/step - loss: 0.4456 - acc: 0.8497 - val_loss: 1.0986 - val_acc: 0.6646\n",
      "Epoch 28/100\n",
      "225/225 [==============================] - 130s 577ms/step - loss: 0.4362 - acc: 0.8509 - val_loss: 0.7813 - val_acc: 0.7420\n",
      "Epoch 29/100\n",
      "225/225 [==============================] - 129s 574ms/step - loss: 0.4257 - acc: 0.8561 - val_loss: 0.7162 - val_acc: 0.7622\n",
      "Epoch 30/100\n",
      "225/225 [==============================] - 130s 576ms/step - loss: 0.4135 - acc: 0.8586 - val_loss: 1.0230 - val_acc: 0.7002\n",
      "Epoch 31/100\n",
      "225/225 [==============================] - 129s 574ms/step - loss: 0.4088 - acc: 0.8623 - val_loss: 1.2319 - val_acc: 0.6616\n",
      "Epoch 32/100\n",
      "225/225 [==============================] - 130s 577ms/step - loss: 0.4015 - acc: 0.8640 - val_loss: 0.8902 - val_acc: 0.7300\n",
      "Epoch 33/100\n",
      "225/225 [==============================] - 129s 574ms/step - loss: 0.3940 - acc: 0.8671 - val_loss: 0.7624 - val_acc: 0.7480\n",
      "Epoch 34/100\n",
      "225/225 [==============================] - 130s 576ms/step - loss: 0.3806 - acc: 0.8728 - val_loss: 0.8363 - val_acc: 0.7376\n",
      "Epoch 35/100\n",
      "225/225 [==============================] - 129s 574ms/step - loss: 0.3735 - acc: 0.8736 - val_loss: 1.0240 - val_acc: 0.6920\n",
      "Epoch 36/100\n",
      "225/225 [==============================] - 130s 578ms/step - loss: 0.3683 - acc: 0.8766 - val_loss: 1.0442 - val_acc: 0.6678\n",
      "Epoch 37/100\n",
      "225/225 [==============================] - 130s 576ms/step - loss: 0.3579 - acc: 0.8770 - val_loss: 1.0492 - val_acc: 0.6896\n",
      "Epoch 38/100\n",
      "225/225 [==============================] - 130s 576ms/step - loss: 0.3499 - acc: 0.8812 - val_loss: 1.1240 - val_acc: 0.6766\n",
      "Epoch 39/100\n",
      "225/225 [==============================] - 129s 574ms/step - loss: 0.3481 - acc: 0.8814 - val_loss: 0.8578 - val_acc: 0.7504\n",
      "Epoch 40/100\n",
      "225/225 [==============================] - 130s 576ms/step - loss: 0.3377 - acc: 0.8838 - val_loss: 1.1238 - val_acc: 0.6814\n",
      "Epoch 41/100\n",
      "225/225 [==============================] - 130s 576ms/step - loss: 0.3377 - acc: 0.8863 - val_loss: 1.1897 - val_acc: 0.6506\n",
      "Epoch 42/100\n",
      "225/225 [==============================] - 130s 576ms/step - loss: 0.3290 - acc: 0.8872 - val_loss: 0.7112 - val_acc: 0.7782\n",
      "Epoch 43/100\n",
      "225/225 [==============================] - 129s 574ms/step - loss: 0.3262 - acc: 0.8896 - val_loss: 0.9573 - val_acc: 0.7184\n",
      "Epoch 44/100\n",
      "225/225 [==============================] - 130s 579ms/step - loss: 0.3082 - acc: 0.8953 - val_loss: 0.7608 - val_acc: 0.7604\n",
      "Epoch 45/100\n",
      "225/225 [==============================] - 129s 574ms/step - loss: 0.3130 - acc: 0.8954 - val_loss: 0.6976 - val_acc: 0.7816\n",
      "Epoch 46/100\n",
      "225/225 [==============================] - 130s 576ms/step - loss: 0.3067 - acc: 0.8952 - val_loss: 0.8318 - val_acc: 0.7484\n",
      "Epoch 47/100\n",
      "225/225 [==============================] - 130s 579ms/step - loss: 0.3046 - acc: 0.8960 - val_loss: 0.7792 - val_acc: 0.7678\n",
      "Epoch 48/100\n",
      "225/225 [==============================] - 131s 581ms/step - loss: 0.2943 - acc: 0.9007 - val_loss: 0.7789 - val_acc: 0.7532\n",
      "Epoch 49/100\n",
      "225/225 [==============================] - 130s 579ms/step - loss: 0.2940 - acc: 0.8996 - val_loss: 0.8029 - val_acc: 0.7488\n",
      "Epoch 50/100\n",
      "225/225 [==============================] - 131s 580ms/step - loss: 0.2830 - acc: 0.9039 - val_loss: 0.8196 - val_acc: 0.7606\n",
      "Epoch 51/100\n",
      "225/225 [==============================] - 130s 578ms/step - loss: 0.2837 - acc: 0.9027 - val_loss: 0.8859 - val_acc: 0.7332\n",
      "Epoch 52/100\n",
      "225/225 [==============================] - 131s 580ms/step - loss: 0.2788 - acc: 0.9058 - val_loss: 0.6853 - val_acc: 0.7840\n",
      "Epoch 53/100\n",
      "225/225 [==============================] - 130s 578ms/step - loss: 0.2718 - acc: 0.9072 - val_loss: 0.7828 - val_acc: 0.7636\n",
      "Epoch 54/100\n",
      "225/225 [==============================] - 131s 581ms/step - loss: 0.2667 - acc: 0.9085 - val_loss: 0.6580 - val_acc: 0.7940\n",
      "Epoch 55/100\n",
      "225/225 [==============================] - 130s 579ms/step - loss: 0.2642 - acc: 0.9111 - val_loss: 1.0300 - val_acc: 0.7086\n",
      "Epoch 56/100\n",
      "225/225 [==============================] - 131s 582ms/step - loss: 0.2592 - acc: 0.9096 - val_loss: 0.7686 - val_acc: 0.7772\n",
      "Epoch 57/100\n",
      "225/225 [==============================] - 130s 579ms/step - loss: 0.2572 - acc: 0.9139 - val_loss: 0.8335 - val_acc: 0.7632\n",
      "Epoch 58/100\n",
      "225/225 [==============================] - 132s 585ms/step - loss: 0.2514 - acc: 0.9144 - val_loss: 0.7413 - val_acc: 0.7772\n",
      "Epoch 59/100\n",
      "225/225 [==============================] - 144s 639ms/step - loss: 0.2418 - acc: 0.9184 - val_loss: 0.8119 - val_acc: 0.7700\n",
      "Epoch 60/100\n"
     ]
    },
    {
     "name": "stdout",
     "output_type": "stream",
     "text": [
      "225/225 [==============================] - 144s 639ms/step - loss: 0.2474 - acc: 0.9163 - val_loss: 0.6466 - val_acc: 0.7956\n",
      "Epoch 61/100\n",
      "225/225 [==============================] - 144s 642ms/step - loss: 0.2417 - acc: 0.9179 - val_loss: 0.6391 - val_acc: 0.8014\n",
      "Epoch 62/100\n",
      "225/225 [==============================] - 144s 639ms/step - loss: 0.2356 - acc: 0.9196 - val_loss: 0.7221 - val_acc: 0.7888\n",
      "Epoch 63/100\n",
      "225/225 [==============================] - 144s 640ms/step - loss: 0.2327 - acc: 0.9215 - val_loss: 0.6665 - val_acc: 0.7966\n",
      "Epoch 64/100\n",
      "225/225 [==============================] - 143s 635ms/step - loss: 0.2311 - acc: 0.9203 - val_loss: 0.7407 - val_acc: 0.7862\n",
      "Epoch 65/100\n",
      "225/225 [==============================] - 145s 643ms/step - loss: 0.2249 - acc: 0.9229 - val_loss: 0.8977 - val_acc: 0.7530\n",
      "Epoch 66/100\n",
      "225/225 [==============================] - 144s 641ms/step - loss: 0.2240 - acc: 0.9229 - val_loss: 0.7116 - val_acc: 0.7906\n",
      "Epoch 67/100\n",
      "225/225 [==============================] - 144s 640ms/step - loss: 0.2214 - acc: 0.9250 - val_loss: 0.7823 - val_acc: 0.7750\n",
      "Epoch 68/100\n",
      "225/225 [==============================] - 144s 639ms/step - loss: 0.2207 - acc: 0.9247 - val_loss: 0.7926 - val_acc: 0.7700\n",
      "Epoch 69/100\n",
      "225/225 [==============================] - 140s 622ms/step - loss: 0.2094 - acc: 0.9283 - val_loss: 0.8124 - val_acc: 0.7724\n",
      "Epoch 70/100\n",
      "225/225 [==============================] - 139s 619ms/step - loss: 0.2127 - acc: 0.9284 - val_loss: 0.7638 - val_acc: 0.7826\n",
      "Epoch 71/100\n",
      "225/225 [==============================] - 138s 612ms/step - loss: 0.2113 - acc: 0.9283 - val_loss: 0.7736 - val_acc: 0.7902\n",
      "Epoch 72/100\n",
      "225/225 [==============================] - 132s 588ms/step - loss: 0.2083 - acc: 0.9291 - val_loss: 0.8589 - val_acc: 0.7570\n",
      "Epoch 73/100\n",
      "225/225 [==============================] - 131s 584ms/step - loss: 0.2030 - acc: 0.9299 - val_loss: 0.6634 - val_acc: 0.8002\n",
      "Epoch 74/100\n",
      "225/225 [==============================] - 132s 585ms/step - loss: 0.2012 - acc: 0.9312 - val_loss: 0.8520 - val_acc: 0.7620\n",
      "Epoch 75/100\n",
      "225/225 [==============================] - 131s 583ms/step - loss: 0.1999 - acc: 0.9320 - val_loss: 0.7979 - val_acc: 0.7732\n",
      "Epoch 76/100\n",
      "225/225 [==============================] - 131s 584ms/step - loss: 0.1962 - acc: 0.9326 - val_loss: 0.7674 - val_acc: 0.7790\n",
      "Epoch 77/100\n",
      "225/225 [==============================] - 131s 583ms/step - loss: 0.1906 - acc: 0.9350 - val_loss: 1.0151 - val_acc: 0.7430\n",
      "Epoch 78/100\n",
      "225/225 [==============================] - 132s 587ms/step - loss: 0.1911 - acc: 0.9336 - val_loss: 0.7505 - val_acc: 0.7904\n",
      "Epoch 79/100\n",
      "225/225 [==============================] - 132s 586ms/step - loss: 0.1885 - acc: 0.9354 - val_loss: 0.7003 - val_acc: 0.7954\n",
      "Epoch 80/100\n",
      "225/225 [==============================] - 132s 586ms/step - loss: 0.1871 - acc: 0.9364 - val_loss: 0.7582 - val_acc: 0.7896\n",
      "Epoch 81/100\n",
      "225/225 [==============================] - 131s 584ms/step - loss: 0.1834 - acc: 0.9385 - val_loss: 0.7882 - val_acc: 0.7820\n",
      "Epoch 82/100\n",
      "225/225 [==============================] - 132s 585ms/step - loss: 0.1859 - acc: 0.9374 - val_loss: 0.6521 - val_acc: 0.8066\n",
      "Epoch 83/100\n",
      "225/225 [==============================] - 132s 585ms/step - loss: 0.1834 - acc: 0.9380 - val_loss: 0.7689 - val_acc: 0.7772\n",
      "Epoch 84/100\n",
      "225/225 [==============================] - 131s 583ms/step - loss: 0.1776 - acc: 0.9395 - val_loss: 1.0606 - val_acc: 0.7278\n",
      "Epoch 85/100\n",
      "225/225 [==============================] - 131s 583ms/step - loss: 0.1802 - acc: 0.9398 - val_loss: 0.7289 - val_acc: 0.7966\n",
      "Epoch 86/100\n",
      "225/225 [==============================] - 131s 583ms/step - loss: 0.1748 - acc: 0.9409 - val_loss: 0.7371 - val_acc: 0.7914\n",
      "Epoch 87/100\n",
      "225/225 [==============================] - 131s 581ms/step - loss: 0.1756 - acc: 0.9412 - val_loss: 0.7904 - val_acc: 0.7818\n",
      "Epoch 88/100\n",
      "225/225 [==============================] - 132s 585ms/step - loss: 0.1764 - acc: 0.9405 - val_loss: 0.7813 - val_acc: 0.7760\n",
      "Epoch 89/100\n",
      "225/225 [==============================] - 131s 582ms/step - loss: 0.1694 - acc: 0.9424 - val_loss: 0.7961 - val_acc: 0.7696\n",
      "Epoch 90/100\n",
      "225/225 [==============================] - 131s 582ms/step - loss: 0.1706 - acc: 0.9418 - val_loss: 0.7670 - val_acc: 0.7856\n",
      "Epoch 91/100\n",
      "225/225 [==============================] - 131s 582ms/step - loss: 0.1651 - acc: 0.9451 - val_loss: 0.8995 - val_acc: 0.7732\n",
      "Epoch 92/100\n",
      "225/225 [==============================] - 131s 582ms/step - loss: 0.1679 - acc: 0.9434 - val_loss: 0.6559 - val_acc: 0.8122\n",
      "Epoch 93/100\n",
      "225/225 [==============================] - 131s 582ms/step - loss: 0.1672 - acc: 0.9438 - val_loss: 0.7648 - val_acc: 0.7786\n",
      "Epoch 94/100\n",
      "225/225 [==============================] - 131s 582ms/step - loss: 0.1569 - acc: 0.9476 - val_loss: 0.8785 - val_acc: 0.7652\n",
      "Epoch 95/100\n",
      "225/225 [==============================] - 131s 583ms/step - loss: 0.1596 - acc: 0.9466 - val_loss: 1.0723 - val_acc: 0.7280\n",
      "Epoch 96/100\n",
      "225/225 [==============================] - 131s 584ms/step - loss: 0.1568 - acc: 0.9473 - val_loss: 0.9006 - val_acc: 0.7554\n",
      "Epoch 97/100\n",
      "225/225 [==============================] - 131s 582ms/step - loss: 0.1590 - acc: 0.9456 - val_loss: 0.6258 - val_acc: 0.8106\n",
      "Epoch 98/100\n",
      "225/225 [==============================] - 131s 580ms/step - loss: 0.1551 - acc: 0.9468 - val_loss: 0.7002 - val_acc: 0.8056\n",
      "Epoch 99/100\n",
      "225/225 [==============================] - 131s 584ms/step - loss: 0.1566 - acc: 0.9466 - val_loss: 0.7545 - val_acc: 0.8026\n",
      "Epoch 100/100\n",
      "225/225 [==============================] - 132s 586ms/step - loss: 0.1543 - acc: 0.9474 - val_loss: 0.7178 - val_acc: 0.7946\n"
     ]
    }
   ],
   "source": [
    "# learning\n",
    "history = model.fit_generator(\n",
    "    trainGenerator.flow(x_train, y_train, BATCH_SIZE),\n",
    "    epochs=EPOCHS,\n",
    "    verbose=1,\n",
    "    #callbacks=[earlyStopping],\n",
    "    validation_data=valGenerator.flow(x_val, y_val, BATCH_SIZE)\n",
    ")\n"
   ]
  },
  {
   "cell_type": "markdown",
   "metadata": {},
   "source": [
    "## 4. Evaluation"
   ]
  },
  {
   "cell_type": "code",
   "execution_count": 27,
   "metadata": {
    "scrolled": false
   },
   "outputs": [
    {
     "data": {
      "image/png": "[encoded data removed]",
      "text/plain": [
       "<Figure size 432x288 with 1 Axes>"
      ]
     },
     "metadata": {},
     "output_type": "display_data"
    },
    {
     "data": {
      "image/png": "[encoded data removed]",
      "text/plain": [
       "<Figure size 432x288 with 1 Axes>"
      ]
     },
     "metadata": {},
     "output_type": "display_data"
    }
   ],
   "source": [
    "plot_history(history)"
   ]
  }
 ],
 "metadata": {
  "kernelspec": {
   "display_name": "Python 3",
   "language": "python",
   "name": "python3"
  },
  "language_info": {
   "codemirror_mode": {
    "name": "ipython",
    "version": 3
   },
   "file_extension": ".py",
   "mimetype": "text/x-python",
   "name": "python",
   "nbconvert_exporter": "python",
   "pygments_lexer": "ipython3",
   "version": "3.6.5"
  }
 },
 "nbformat": 4,
 "nbformat_minor": 2
}
