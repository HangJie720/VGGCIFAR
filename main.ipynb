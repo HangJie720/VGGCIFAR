{
 "cells": [
  {
   "cell_type": "markdown",
   "metadata": {},
   "source": [
    "# VGGCIFAR\n",
    "### Abstract"
   ]
  },
  {
   "cell_type": "markdown",
   "metadata": {},
   "source": [
    "## 0. Preparation"
   ]
  },
  {
   "cell_type": "code",
   "execution_count": 137,
   "metadata": {},
   "outputs": [],
   "source": [
    "# import modules\n",
    "import matplotlib.pyplot as plt\n",
    "from matplotlib.ticker import MultipleLocator\n",
    "\n",
    "from sklearn.model_selection import train_test_split\n",
    "\n",
    "from keras.models import Sequential\n",
    "from keras.layers.core import Dense, Activation, Dropout, Flatten\n",
    "from keras.layers.convolutional import Conv2D\n",
    "from keras.layers.pooling import MaxPool2D\n",
    "from keras.optimizers import Adam\n",
    "\n",
    "from keras.callbacks import TensorBoard, EarlyStopping\n",
    "from keras.preprocessing.image import ImageDataGenerator\n",
    "from keras.regularizers import l2\n",
    "from keras.utils import plot_model\n",
    "\n",
    "from keras.datasets import cifar10\n",
    "from keras.utils import np_utils"
   ]
  },
  {
   "cell_type": "code",
   "execution_count": 138,
   "metadata": {
    "collapsed": true
   },
   "outputs": [],
   "source": [
    "# consts\n",
    "NUM_CLASSES = 10\n",
    "BATCH_SIZE = 200\n",
    "EPOCHS = 10"
   ]
  },
  {
   "cell_type": "code",
   "execution_count": 139,
   "metadata": {
    "collapsed": true
   },
   "outputs": [],
   "source": [
    "# plot function\n",
    "def plot_history(history):\n",
    "    # plot accuracy\n",
    "    plt.plot(history.history['acc'])\n",
    "    plt.plot(history.history['val_acc'])\n",
    "    plt.title('model accuracy')\n",
    "    plt.xlabel('epoch')\n",
    "    plt.ylabel('accuracy')\n",
    "    plt.legend(['acc', 'val_acc'], loc='lower right')\n",
    "    ax = plt.gca()\n",
    "    ax.xaxis.set_major_locator(MultipleLocator(1))\n",
    "    plt.show()\n",
    "    \n",
    "    # plot loss\n",
    "    plt.plot(history.history['loss'])\n",
    "    plt.plot(history.history['val_loss'])\n",
    "    plt.title('model loss')\n",
    "    plt.xlabel('epoch')\n",
    "    plt.ylabel('loss')\n",
    "    plt.legend(['loss', 'val_loss'], loc='lower right')\n",
    "    ax = plt.gca()\n",
    "    ax.xaxis.set_major_locator(MultipleLocator(1))\n",
    "    plt.show() "
   ]
  },
  {
   "cell_type": "markdown",
   "metadata": {},
   "source": [
    "## 1. Preprocessing"
   ]
  },
  {
   "cell_type": "code",
   "execution_count": 140,
   "metadata": {
    "collapsed": true
   },
   "outputs": [],
   "source": [
    "# load data\n",
    "(x_train, y_train), (x_test, y_test) = cifar10.load_data()\n",
    "y_train = np_utils.to_categorical(y_train, NUM_CLASSES)\n",
    "y_test = np_utils.to_categorical(y_test, NUM_CLASSES)"
   ]
  },
  {
   "cell_type": "code",
   "execution_count": 141,
   "metadata": {},
   "outputs": [],
   "source": [
    "#split data into training and valuation\n",
    "x_train, x_val, y_train, y_val = train_test_split(\n",
    "    x_train, \n",
    "    y_train, \n",
    "    test_size = 0.1,\n",
    "    train_size=0.9, \n",
    "    random_state=42,\n",
    "    shuffle=True\n",
    ")"
   ]
  },
  {
   "cell_type": "code",
   "execution_count": 142,
   "metadata": {},
   "outputs": [],
   "source": [
    "# data augmentation & normalization\n",
    "\n",
    "#training data\n",
    "trainGenerator = ImageDataGenerator(\n",
    "    featurewise_center=True,\n",
    "    #featurewise_std_normalization=True,\n",
    "    zca_whitening=True,\n",
    "    rotation_range=20,\n",
    "    width_shift_range=0.2,\n",
    "    height_shift_range=0.2,\n",
    "    horizontal_flip=True\n",
    ")\n",
    "\n",
    "trainGenerator.fit(x_train)\n",
    "\n",
    "# valuation data\n",
    "valGenerator = ImageDataGenerator(\n",
    "    featurewise_center=True,\n",
    "    #featurewise_std_normalization=True,\n",
    "    zca_whitening=True,\n",
    "    rotation_range=20,\n",
    "    width_shift_range=0.2,\n",
    "    height_shift_range=0.2,\n",
    "    horizontal_flip=True\n",
    ")\n",
    "\n",
    "valGenerator.fit(x_val)"
   ]
  },
  {
   "cell_type": "markdown",
   "metadata": {},
   "source": [
    "## 2. Model Definition"
   ]
  },
  {
   "cell_type": "code",
   "execution_count": 143,
   "metadata": {},
   "outputs": [],
   "source": [
    "# definition\n",
    "model = Sequential([\n",
    "    Conv2D(32, 3, input_shape=(32, 32, 3), kernel_regularizer=l2(0.01)),\n",
    "    Activation('relu'),\n",
    "    Conv2D(32, 3, kernel_regularizer=l2(0.01)),\n",
    "    Activation('relu'),\n",
    "    MaxPool2D(pool_size=(2, 2)),\n",
    "    Dropout(0.25),\n",
    "    \n",
    "    Conv2D(64, 3, kernel_regularizer=l2(0.01)),\n",
    "    Activation('relu'),\n",
    "    MaxPool2D(pool_size=(2, 2)),\n",
    "    Dropout(0.25),\n",
    "    \n",
    "    Flatten(),\n",
    "    Dense(512),\n",
    "    Activation('relu'),\n",
    "    Dropout(0.25),\n",
    "    \n",
    "    Dense(NUM_CLASSES),\n",
    "    Activation('softmax')\n",
    "])"
   ]
  },
  {
   "cell_type": "markdown",
   "metadata": {},
   "source": [
    "## 3. Learning"
   ]
  },
  {
   "cell_type": "code",
   "execution_count": 144,
   "metadata": {
    "collapsed": true
   },
   "outputs": [],
   "source": [
    "# optimizer\n",
    "optimizer = Adam()"
   ]
  },
  {
   "cell_type": "code",
   "execution_count": 145,
   "metadata": {
    "collapsed": true
   },
   "outputs": [],
   "source": [
    "# compile\n",
    "model.compile(optimizer=optimizer, loss='categorical_crossentropy', metrics=['accuracy'])"
   ]
  },
  {
   "cell_type": "code",
   "execution_count": 146,
   "metadata": {
    "collapsed": true
   },
   "outputs": [],
   "source": [
    "# Early stopping callback\n",
    "# earlyStopping = EarlyStopping(patience=0, verbose=1)"
   ]
  },
  {
   "cell_type": "code",
   "execution_count": 147,
   "metadata": {},
   "outputs": [
    {
     "name": "stdout",
     "output_type": "stream",
     "text": [
      "Epoch 1/10\n",
      "225/225 [==============================] - 202s 897ms/step - loss: 2.1988 - acc: 0.2879 - val_loss: 1.9913 - val_acc: 0.3376\n",
      "Epoch 2/10\n",
      "225/225 [==============================] - 204s 909ms/step - loss: 1.6925 - acc: 0.4369 - val_loss: 1.7390 - val_acc: 0.4128\n",
      "Epoch 3/10\n",
      "225/225 [==============================] - 191s 849ms/step - loss: 1.5367 - acc: 0.4959 - val_loss: 1.6462 - val_acc: 0.4508\n",
      "Epoch 4/10\n",
      "225/225 [==============================] - 195s 865ms/step - loss: 1.4587 - acc: 0.5225 - val_loss: 1.5185 - val_acc: 0.5006\n",
      "Epoch 5/10\n",
      "225/225 [==============================] - 207s 920ms/step - loss: 1.4012 - acc: 0.5436 - val_loss: 1.4550 - val_acc: 0.5090\n",
      "Epoch 6/10\n",
      "225/225 [==============================] - 243s 1s/step - loss: 1.3517 - acc: 0.5613 - val_loss: 1.5918 - val_acc: 0.4554\n",
      "Epoch 7/10\n",
      "225/225 [==============================] - 193s 857ms/step - loss: 1.3174 - acc: 0.5758 - val_loss: 1.3662 - val_acc: 0.5652\n",
      "Epoch 8/10\n",
      "225/225 [==============================] - 183s 815ms/step - loss: 1.2799 - acc: 0.5896 - val_loss: 1.3491 - val_acc: 0.5664\n",
      "Epoch 9/10\n",
      "225/225 [==============================] - 188s 837ms/step - loss: 1.2562 - acc: 0.5986 - val_loss: 1.4078 - val_acc: 0.5222\n",
      "Epoch 10/10\n",
      "225/225 [==============================] - 189s 839ms/step - loss: 1.2395 - acc: 0.6055 - val_loss: 1.4068 - val_acc: 0.5348\n"
     ]
    }
   ],
   "source": [
    "# learning\n",
    "history = model.fit_generator(\n",
    "    trainGenerator.flow(x_train, y_train, BATCH_SIZE),\n",
    "    epochs=EPOCHS,\n",
    "    verbose=1,\n",
    "    #callbacks=[earlyStopping],\n",
    "    validation_data=valGenerator.flow(x_val, y_val, BATCH_SIZE)\n",
    ")\n"
   ]
  },
  {
   "cell_type": "markdown",
   "metadata": {},
   "source": [
    "## 4. Evaluation"
   ]
  },
  {
   "cell_type": "code",
   "execution_count": 148,
   "metadata": {},
   "outputs": [
    {
     "data": {
      "image/png": "[encoded data removed]",
      "text/plain": [
       "<Figure size 432x288 with 1 Axes>"
      ]
     },
     "metadata": {},
     "output_type": "display_data"
    },
    {
     "data": {
      "image/png": "[encoded data removed]",
      "text/plain": [
       "<Figure size 432x288 with 1 Axes>"
      ]
     },
     "metadata": {},
     "output_type": "display_data"
    }
   ],
   "source": [
    "plot_history(history)"
   ]
  },
  {
   "cell_type": "markdown",
   "metadata": {},
   "source": [
    "## 5. Summary"
   ]
  }
 ],
 "metadata": {
  "kernelspec": {
   "display_name": "Python 3",
   "language": "python",
   "name": "python3"
  },
  "language_info": {
   "codemirror_mode": {
    "name": "ipython",
    "version": 3
   },
   "file_extension": ".py",
   "mimetype": "text/x-python",
   "name": "python",
   "nbconvert_exporter": "python",
   "pygments_lexer": "ipython3",
   "version": "3.6.1"
  }
 },
 "nbformat": 4,
 "nbformat_minor": 2
}
